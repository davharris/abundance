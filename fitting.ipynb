{
 "cells": [
  {
   "cell_type": "code",
   "execution_count": 1,
   "metadata": {
    "collapsed": false,
    "deletable": true,
    "editable": true
   },
   "outputs": [
    {
     "name": "stdout",
     "output_type": "stream",
     "text": [
      "1.2.0\n"
     ]
    }
   ],
   "source": [
    "import pandas as pd\n",
    "import scipy\n",
    "import numpy as np\n",
    "from scipy import stats, special\n",
    "\n",
    "import tensorflow as tf\n",
    "print(tf.__version__)\n",
    "sess = tf.InteractiveSession()\n",
    "\n",
    "import tfnb\n",
    "\n",
    "import matplotlib\n",
    "%matplotlib inline\n",
    "import matplotlib.pyplot as plt\n",
    "\n",
    "import gc"
   ]
  },
  {
   "cell_type": "markdown",
   "metadata": {
    "deletable": true,
    "editable": true
   },
   "source": [
    "# Hyperparameters"
   ]
  },
  {
   "cell_type": "code",
   "execution_count": 2,
   "metadata": {
    "collapsed": false,
    "deletable": true,
    "editable": true
   },
   "outputs": [],
   "source": [
    "N_z = 20  # Latent variables, split evenly between sites & observers\n",
    "N_h = 50 # Neurons in non-final hidden layer(s)\n",
    "N_bottleneck = 10 # Neurons in final hidden layer\n",
    "N_reps = 1"
   ]
  },
  {
   "cell_type": "markdown",
   "metadata": {
    "deletable": true,
    "editable": true
   },
   "source": [
    "# Data"
   ]
  },
  {
   "cell_type": "code",
   "execution_count": 3,
   "metadata": {
    "collapsed": false,
    "deletable": true,
    "editable": true
   },
   "outputs": [],
   "source": [
    "# Data\n",
    "x_array = np.array(pd.read_csv(\"x.csv\"))\n",
    "y_array = np.array(pd.read_csv(\"y.csv\"))\n",
    "site_array = (np.array(pd.read_csv(\"site.csv\"))) - 1 # Zero-indexing versus R's one-indexing\n",
    "obs_array = (np.array(pd.read_csv(\"obs.csv\"))) - 1   # Zero-indexing\n",
    "\n",
    "# Sizes\n",
    "N_x = x_array.shape[1]\n",
    "N_y = y_array.shape[1]\n",
    "\n",
    "N_s = int(np.max(site_array[:,1])) + 1 # Include zero as a column\n",
    "N_o = int(np.max(obs_array[:,1])) + 1  # Include zero as a column\n",
    "N_rows = x_array.shape[0]\n",
    "\n",
    "N = tf.placeholder(tf.int32, shape=[], name = \"rows\") # Minibatch size\n",
    "Y = tf.placeholder(tf.float32, shape=[None, N_y], name = \"abundance\") # Response variables\n",
    "X = tf.placeholder(tf.float32, shape=[None, N_x], name = \"environment\") # Predictor variables\n",
    "S = tf.placeholder(tf.int32, shape=[None], name = \"Site-ID\") # site index\n",
    "O = tf.placeholder(tf.int32, shape=[None], name = \"Observer-ID\") # observer index"
   ]
  },
  {
   "cell_type": "markdown",
   "metadata": {
    "deletable": true,
    "editable": true
   },
   "source": [
    "# Neural network"
   ]
  },
  {
   "cell_type": "markdown",
   "metadata": {
    "deletable": true,
    "editable": true
   },
   "source": [
    "### Layer 0: Latent random variables"
   ]
  },
  {
   "cell_type": "code",
   "execution_count": 5,
   "metadata": {
    "collapsed": false,
    "deletable": true,
    "editable": true
   },
   "outputs": [],
   "source": [
    "with tf.variable_scope(\"latent-params\"):\n",
    "    # Full data set\n",
    "    half_N_z = int(N_z/2)\n",
    "    site_mu = tf.Variable(tf.random_normal([N_s, N_z]) * tf.sqrt(0.1))\n",
    "    obs_mu = tf.Variable(tf.random_normal([N_o, N_z]) * tf.sqrt(0.1))\n",
    "    site_sigma = tf.Variable(tf.ones([N_s, N_z]))\n",
    "    obs_sigma = tf.Variable(tf.ones([N_o, N_z]))\n",
    "    \n",
    "    # Mean and standard deviation of \"mu\" and \"sigma\" in a given minibatch\n",
    "    mu0 = tf.add(tf.gather(site_mu, S), tf.gather(obs_mu, O), name=\"mu\")\n",
    "    sigma0 = tf.sqrt(tf.add(tf.square(tf.gather(site_sigma,S)), tf.square(tf.gather(obs_sigma, O))), name = \"sigma\")\n",
    "\n",
    "with tf.variable_scope(\"latent-random\"):\n",
    "    epsilon = tf.random_normal([N, N_z])\n",
    "    Z = tf.add(mu0, sigma0 * epsilon, name = \"Z\")\n",
    "    \n",
    "# Define layer 1's inputs with X and Z\n",
    "XZ = tf.concat([X, Z], 1)"
   ]
  },
  {
   "cell_type": "markdown",
   "metadata": {
    "deletable": true,
    "editable": true
   },
   "source": [
    "### Hidden layers"
   ]
  },
  {
   "cell_type": "code",
   "execution_count": 6,
   "metadata": {
    "collapsed": false,
    "deletable": true,
    "editable": true
   },
   "outputs": [],
   "source": [
    "H1 = tf.layers.dense(XZ, \n",
    "                     units=N_h, \n",
    "                     activation=tf.nn.elu,\n",
    "                     kernel_initializer=tf.contrib.layers.xavier_initializer(),\n",
    "                     kernel_regularizer = tf.contrib.layers.l2_regularizer(0.01),\n",
    "                     name=\"layer1\")\n",
    "H2 = tf.layers.dense(H1, \n",
    "                     units=N_bottleneck, \n",
    "                     activation=tf.nn.elu,\n",
    "                     kernel_initializer=tf.contrib.layers.xavier_initializer(),\n",
    "                     kernel_regularizer = tf.contrib.layers.l2_regularizer(0.01),\n",
    "                     name=\"layer2\")\n",
    "HN = H2"
   ]
  },
  {
   "cell_type": "markdown",
   "metadata": {
    "deletable": true,
    "editable": true
   },
   "source": [
    "### Output layer"
   ]
  },
  {
   "cell_type": "code",
   "execution_count": 7,
   "metadata": {
    "collapsed": false,
    "deletable": true,
    "editable": true
   },
   "outputs": [],
   "source": [
    "with tf.variable_scope(\"squared-distance\",reuse=False):\n",
    "    niche_optima = tf.Variable(tf.random_normal((N_bottleneck, N_y), stddev=.1),name=\"optima\",\n",
    "                           dtype=tf.float32)\n",
    "    niche_widths = tf.Variable(tf.fill([N_bottleneck, N_y], 5.0), name=\"scales\", \n",
    "                            dtype=tf.float32)\n",
    "    d_squared = tf.transpose(\n",
    "                    tf.map_fn(lambda i: \n",
    "                      tf.reduce_sum(tf.squared_difference(HN, niche_optima[:,i]) / tf.square(niche_widths[:,i]), \n",
    "                                    axis=1), \n",
    "                      np.arange(N_y, dtype=np.int32),\n",
    "                      dtype=tf.float32))"
   ]
  },
  {
   "cell_type": "code",
   "execution_count": 8,
   "metadata": {
    "collapsed": false,
    "deletable": true,
    "editable": true
   },
   "outputs": [],
   "source": [
    "with tf.variable_scope(\"negative-binomial\",reuse=False):\n",
    "    # Scaled radial basis function plus a small fudge-factor\n",
    "    # The scaling has two parts: the first normalizes the density, and the second\n",
    "    # rescales the niche peak to a reasonable height\n",
    "    log_normalizer = .5 * N_bottleneck * tf.log(2 * np.pi) + tf.log(tf.reduce_prod(niche_widths, axis=0))\n",
    "    log_multiplier = tf.Variable(1 + np.log(np.mean(y_array, axis=0)) + log_normalizer, \n",
    "                                 dtype=tf.float32)\n",
    "    nb_mu = tf.exp(-0.5 * d_squared - log_normalizer + log_multiplier) + 1E-6\n",
    "    nb_size_raw = tf.Variable(tf.ones(N_y))\n",
    "    nb_size = tf.exp(nb_size_raw) + 1\n",
    "\n",
    "    # Zero-inflation\n",
    "    zi_p_raw = tf.Variable(tf.zeros_like(nb_size))\n",
    "    zi_p = tf.sigmoid(zi_p_raw)\n",
    "\n",
    "    # Switch to N,p parameterization for negative binomial\n",
    "    nb_p = nb_size / (nb_mu + nb_size)"
   ]
  },
  {
   "cell_type": "markdown",
   "metadata": {
    "deletable": true,
    "editable": true
   },
   "source": [
    "# Loss & Optimizer"
   ]
  },
  {
   "cell_type": "code",
   "execution_count": 9,
   "metadata": {
    "collapsed": false,
    "deletable": true,
    "editable": true
   },
   "outputs": [],
   "source": [
    "with tf.variable_scope(\"losses\",reuse=False):\n",
    "    prediction_loss = -tf.reduce_sum(tfnb.zi_nbinom_ll(Y, nb_size, nb_p, zi_p))\n",
    "\n",
    "    # Put a prior on negative binomial's \"p\" and the zero-inflation parameter, \n",
    "    # which both cause numerical problems at 0 or 1\n",
    "    prior_loss = tf.reduce_sum(tf.get_collection(tf.GraphKeys.REGULARIZATION_LOSSES))\n",
    "\n",
    "    variational_loss = tfnb.kl(tf.gather(site_mu, S), tf.gather(site_sigma, S)) + \\\n",
    "                                tfnb.kl(tf.gather(obs_mu, O), tf.gather(obs_sigma, O))\n",
    "\n",
    "    loss = prediction_loss + prior_loss + variational_loss\n",
    "\n",
    "adam = tf.train.AdamOptimizer();\n",
    "train_step = adam.minimize(loss);"
   ]
  },
  {
   "cell_type": "markdown",
   "metadata": {
    "deletable": true,
    "editable": true
   },
   "source": [
    "# Stuff for fitting loop"
   ]
  },
  {
   "cell_type": "code",
   "execution_count": 10,
   "metadata": {
    "collapsed": false,
    "deletable": true,
    "editable": true
   },
   "outputs": [],
   "source": [
    "# Session incantations \n",
    "init = tf.global_variables_initializer()\n",
    "\n",
    "# Save output for tensorboard\n",
    "#train_writer = tf.summary.FileWriter('./train', sess.graph)\n",
    "#train_writer.close()"
   ]
  },
  {
   "cell_type": "code",
   "execution_count": 12,
   "metadata": {
    "collapsed": false,
    "deletable": true,
    "editable": true
   },
   "outputs": [],
   "source": [
    "sess.run(init)"
   ]
  },
  {
   "cell_type": "code",
   "execution_count": 24,
   "metadata": {
    "collapsed": false,
    "deletable": true,
    "editable": true
   },
   "outputs": [],
   "source": [
    "rows = np.arange(y_array.shape[0])\n",
    "n_steps = 0.\n",
    "t = tf.placeholder(dtype=tf.float32)\n",
    "\n",
    "class minibatcher(object):\n",
    "    def __init__(self, nrow):\n",
    "        self.nrow = nrow\n",
    "        self.epochs = 0\n",
    "        self.pointer = 0\n",
    "        self.order = np.arange(nrow)\n",
    "        np.random.shuffle(self.order)\n",
    "        #self.print_status()\n",
    "    def get_rows(self, n):\n",
    "        if (n+self.pointer < self.nrow):\n",
    "            out = self.order[self.pointer + np.arange(n)]\n",
    "            self.pointer += n\n",
    "            return out\n",
    "        else:\n",
    "            # This is suboptimal because it throws out anything at the end\n",
    "            # of the epoch that doesn't divide evenly into `n`\n",
    "            np.random.shuffle(self.order)\n",
    "            self.pointer = 0\n",
    "            self.epochs += 1\n",
    "            self.print_loss()\n",
    "            return self.get_rows(n)\n",
    "    def print_loss(self):\n",
    "        raw_losses = sess.run([prediction_loss, prior_loss, variational_loss, loss], \n",
    "                              feed_dict=full_feed())\n",
    "        loss_list = [loss / N_rows for loss in raw_losses]\n",
    "        print(np.round(loss_list, 4))\n",
    "        return loss_list\n",
    "\n",
    "def make_minibatch(n):\n",
    "    if n==N_rows:\n",
    "        rows = np.arange(N_rows)\n",
    "    else:\n",
    "        rows = np.repeat(mb.get_rows(n), N_reps)\n",
    "    \n",
    "    return {X:x_array[rows,:], \n",
    "            Y:y_array[rows,:], \n",
    "            S:site_array[rows,1],\n",
    "            O:obs_array[rows,1],\n",
    "            N:len(rows)}\n",
    "def full_feed():\n",
    "    return make_minibatch(N_rows)\n",
    "\n",
    "mb = minibatcher(N_rows)"
   ]
  },
  {
   "cell_type": "code",
   "execution_count": 22,
   "metadata": {
    "collapsed": false,
    "deletable": true,
    "editable": true
   },
   "outputs": [],
   "source": [
    "#tf.train.shuffle_batch((x_array, y_array, site_array, obs_array),\n",
    "#                       16,\n",
    "#                       capacity = x_array.shape[0],\n",
    "#                       min_after_dequeue = 1000,\n",
    "#                       enqueue_many = True)"
   ]
  },
  {
   "cell_type": "markdown",
   "metadata": {
    "deletable": true,
    "editable": true
   },
   "source": [
    "# Model-fitting loop"
   ]
  },
  {
   "cell_type": "code",
   "execution_count": null,
   "metadata": {
    "collapsed": false,
    "deletable": true,
    "editable": true
   },
   "outputs": [
    {
     "name": "stdout",
     "output_type": "stream",
     "text": [
      "[  2.01354500e+02   1.00000000e-04   5.21180000e+00   2.06566400e+02]\n",
      "[  2.01276600e+02   1.00000000e-04   5.21560000e+00   2.06492300e+02]\n",
      "[  2.01215600e+02   1.00000000e-04   5.22090000e+00   2.06436600e+02]\n",
      "[  2.01099800e+02   1.00000000e-04   5.21170000e+00   2.06311500e+02]\n",
      "[  2.01219700e+02   1.00000000e-04   5.22790000e+00   2.06447600e+02]\n",
      "[  2.01163700e+02   1.00000000e-04   5.23610000e+00   2.06399800e+02]\n",
      "[  2.00979300e+02   1.00000000e-04   5.23800000e+00   2.06217400e+02]\n",
      "[  2.01024200e+02   1.00000000e-04   5.25280000e+00   2.06277000e+02]\n",
      "[  2.01009900e+02   1.00000000e-04   5.25720000e+00   2.06267100e+02]\n",
      "[  2.01328100e+02   1.00000000e-04   5.26510000e+00   2.06593300e+02]\n",
      "[  2.01049900e+02   1.00000000e-04   5.25910000e+00   2.06309100e+02]\n",
      "[  2.01029800e+02   1.00000000e-04   5.25060000e+00   2.06280400e+02]\n",
      "[  2.00935900e+02   1.00000000e-04   5.26080000e+00   2.06196700e+02]\n",
      "[  2.00974100e+02   1.00000000e-04   5.26240000e+00   2.06236600e+02]\n",
      "[  2.01411400e+02   1.00000000e-04   5.26260000e+00   2.06674100e+02]\n",
      "[  2.00990100e+02   1.00000000e-04   5.25980000e+00   2.06249900e+02]\n",
      "[  2.00898800e+02   1.00000000e-04   5.26710000e+00   2.06166000e+02]\n",
      "[  2.00871900e+02   1.00000000e-04   5.26860000e+00   2.06140500e+02]\n",
      "[  2.00871700e+02   1.00000000e-04   5.27140000e+00   2.06143200e+02]\n",
      "[  2.01039000e+02   1.00000000e-04   5.26770000e+00   2.06306800e+02]\n",
      "[  2.00827200e+02   1.00000000e-04   5.28140000e+00   2.06108600e+02]\n",
      "[  2.00935400e+02   1.00000000e-04   5.29000000e+00   2.06225400e+02]\n",
      "[  2.00849100e+02   1.00000000e-04   5.29490000e+00   2.06144100e+02]\n",
      "[  2.00848000e+02   1.00000000e-04   5.29290000e+00   2.06141000e+02]\n",
      "[  2.00880600e+02   1.00000000e-04   5.29400000e+00   2.06174700e+02]\n",
      "[  2.00724800e+02   1.00000000e-04   5.30570000e+00   2.06030500e+02]\n",
      "[  2.00746500e+02   1.00000000e-04   5.30780000e+00   2.06054400e+02]\n",
      "[  2.00755500e+02   1.00000000e-04   5.30210000e+00   2.06057700e+02]\n",
      "[  2.00809600e+02   1.00000000e-04   5.30460000e+00   2.06114200e+02]\n",
      "[  2.00648400e+02   1.00000000e-04   5.31400000e+00   2.05962500e+02]\n",
      "[  2.00716500e+02   1.00000000e-04   5.30780000e+00   2.06024400e+02]\n",
      "[  2.00765200e+02   1.00000000e-04   5.31230000e+00   2.06077600e+02]\n",
      "[  2.00756800e+02   1.00000000e-04   5.30460000e+00   2.06061400e+02]\n",
      "[  2.00581100e+02   1.00000000e-04   5.30880000e+00   2.05890000e+02]\n",
      "[  2.00823300e+02   1.00000000e-04   5.32020000e+00   2.06143500e+02]\n",
      "[  2.00652800e+02   1.00000000e-04   5.31590000e+00   2.05968800e+02]\n"
     ]
    }
   ],
   "source": [
    "# Fit the model\n",
    "n = 16\n",
    "\n",
    "for i in range(1000000):\n",
    "    sess.run(train_step, feed_dict=make_minibatch(n))\n",
    "    n_steps += 1"
   ]
  },
  {
   "cell_type": "markdown",
   "metadata": {
    "deletable": true,
    "editable": true
   },
   "source": [
    "# Downstream analyses"
   ]
  },
  {
   "cell_type": "code",
   "execution_count": 26,
   "metadata": {
    "collapsed": false,
    "deletable": true,
    "editable": true,
    "scrolled": true
   },
   "outputs": [
    {
     "name": "stdout",
     "output_type": "stream",
     "text": [
      "204386.0\n",
      "112\n",
      "[  2.01148400e+02   1.00000000e-04   5.21720000e+00   2.06365600e+02]\n"
     ]
    }
   ],
   "source": [
    "print(n_steps)\n",
    "print(mb.epochs)\n",
    "mb.print_loss();"
   ]
  },
  {
   "cell_type": "code",
   "execution_count": 27,
   "metadata": {
    "collapsed": false,
    "deletable": true,
    "editable": true
   },
   "outputs": [
    {
     "data": {
      "image/png": "[encoded data removed]",
      "text/plain": [
       "<matplotlib.figure.Figure at 0x2ae7d47df5f8>"
      ]
     },
     "metadata": {},
     "output_type": "display_data"
    }
   ],
   "source": [
    "plt.hist(sess.run(niche_optima, feed_dict=make_minibatch(1000)).flatten(), bins=\"fd\");"
   ]
  },
  {
   "cell_type": "code",
   "execution_count": 28,
   "metadata": {
    "collapsed": false,
    "deletable": true,
    "editable": true
   },
   "outputs": [
    {
     "data": {
      "image/png": "[encoded data removed]",
      "text/plain": [
       "<matplotlib.figure.Figure at 0x2ae7d47df3c8>"
      ]
     },
     "metadata": {},
     "output_type": "display_data"
    }
   ],
   "source": [
    "plt.hist(sess.run(niche_widths, feed_dict=make_minibatch(1000)).flatten(), bins=\"fd\");"
   ]
  },
  {
   "cell_type": "code",
   "execution_count": 29,
   "metadata": {
    "collapsed": false,
    "deletable": true,
    "editable": true
   },
   "outputs": [
    {
     "data": {
      "image/png": "[encoded data removed]",
      "text/plain": [
       "<matplotlib.figure.Figure at 0x2ae7d5ae86a0>"
      ]
     },
     "metadata": {},
     "output_type": "display_data"
    }
   ],
   "source": [
    "plt.hist(sess.run(nb_size, feed_dict=make_minibatch(1000)).flatten(), bins=50);"
   ]
  },
  {
   "cell_type": "code",
   "execution_count": 30,
   "metadata": {
    "collapsed": false,
    "deletable": true,
    "editable": true
   },
   "outputs": [
    {
     "data": {
      "image/png": "[encoded data removed]",
      "text/plain": [
       "<matplotlib.figure.Figure at 0x2ae7d5ae8940>"
      ]
     },
     "metadata": {},
     "output_type": "display_data"
    }
   ],
   "source": [
    "plt.hist(sess.run(zi_p, feed_dict=make_minibatch(1000)).flatten(), bins=50);"
   ]
  },
  {
   "cell_type": "code",
   "execution_count": 45,
   "metadata": {
    "collapsed": false,
    "deletable": true,
    "editable": true
   },
   "outputs": [
    {
     "data": {
      "image/png": "[encoded data removed]",
      "text/plain": [
       "<matplotlib.figure.Figure at 0x2ae7e7af0400>"
      ]
     },
     "metadata": {},
     "output_type": "display_data"
    }
   ],
   "source": [
    "plt.hist(sess.run(tf.sqrt(d_squared), feed_dict=make_minibatch(1000)).flatten(), bins=\"fd\");"
   ]
  },
  {
   "cell_type": "code",
   "execution_count": 32,
   "metadata": {
    "collapsed": false,
    "deletable": true,
    "editable": true
   },
   "outputs": [
    {
     "data": {
      "image/png": "[encoded data removed]",
      "text/plain": [
       "<matplotlib.figure.Figure at 0x2ae7e3efd390>"
      ]
     },
     "metadata": {},
     "output_type": "display_data"
    }
   ],
   "source": [
    "plt.hist(sess.run(obs_sigma).flatten(), bins = \"fd\");\n",
    "plt.hist(sess.run(site_sigma).flatten(), bins = \"fd\");"
   ]
  },
  {
   "cell_type": "code",
   "execution_count": 33,
   "metadata": {
    "collapsed": false,
    "deletable": true,
    "editable": true
   },
   "outputs": [
    {
     "data": {
      "image/png": "[encoded data removed]",
      "text/plain": [
       "<matplotlib.figure.Figure at 0x2ae7e3d40128>"
      ]
     },
     "metadata": {},
     "output_type": "display_data"
    }
   ],
   "source": [
    "plt.hist(sess.run(obs_mu).flatten(), bins = \"fd\");\n",
    "plt.hist(sess.run(site_mu).flatten(), bins = \"fd\");"
   ]
  },
  {
   "cell_type": "code",
   "execution_count": 34,
   "metadata": {
    "collapsed": false,
    "deletable": true,
    "editable": true
   },
   "outputs": [
    {
     "data": {
      "image/png": "[encoded data removed]",
      "text/plain": [
       "<matplotlib.figure.Figure at 0x2ae7e6e512b0>"
      ]
     },
     "metadata": {},
     "output_type": "display_data"
    }
   ],
   "source": [
    "plt.loglog(sess.run(tf.reduce_mean(nb_mu, axis=0), feed_dict=make_minibatch(1000)),\n",
    "           np.mean(y_array, axis=0), marker='x', linestyle='None');"
   ]
  },
  {
   "cell_type": "code",
   "execution_count": 35,
   "metadata": {
    "collapsed": false,
    "deletable": true,
    "editable": true
   },
   "outputs": [
    {
     "data": {
      "image/png": "[encoded data removed]",
      "text/plain": [
       "<matplotlib.figure.Figure at 0x2ae7e6e74198>"
      ]
     },
     "metadata": {},
     "output_type": "display_data"
    }
   ],
   "source": [
    "plt.loglog(sess.run(tf.exp(log_multiplier - log_normalizer)),\n",
    "           np.mean(y_array, axis=0), marker='x', linestyle='None');"
   ]
  },
  {
   "cell_type": "code",
   "execution_count": 36,
   "metadata": {
    "collapsed": false,
    "deletable": true,
    "editable": true
   },
   "outputs": [],
   "source": [
    "mus, losses = sess.run((nb_mu, tfnb.zi_nbinom_ll(Y, nb_size, nb_p, zi_p)), feed_dict=full_feed())"
   ]
  },
  {
   "cell_type": "code",
   "execution_count": 37,
   "metadata": {
    "collapsed": false,
    "deletable": true,
    "editable": true
   },
   "outputs": [
    {
     "data": {
      "image/png": "[encoded data removed]",
      "text/plain": [
       "<matplotlib.figure.Figure at 0x2ae847847438>"
      ]
     },
     "metadata": {},
     "output_type": "display_data"
    }
   ],
   "source": [
    "plt.hist(np.sum(losses, axis=1), bins = \"fd\");"
   ]
  },
  {
   "cell_type": "code",
   "execution_count": 38,
   "metadata": {
    "collapsed": false,
    "deletable": true,
    "editable": true
   },
   "outputs": [
    {
     "data": {
      "text/plain": [
       "array([ 2.37808537,  2.46172285,  2.39964914,  2.18467021,  2.89635754,\n",
       "        2.18670678,  2.42583752,  2.67309856,  2.0411489 ,  2.54714012], dtype=float32)"
      ]
     },
     "execution_count": 38,
     "metadata": {},
     "output_type": "execute_result"
    }
   ],
   "source": [
    "hn = sess.run(HN, feed_dict=full_feed())\n",
    "np.std(hn, axis=0)"
   ]
  },
  {
   "cell_type": "code",
   "execution_count": 47,
   "metadata": {
    "collapsed": false,
    "deletable": true,
    "editable": true
   },
   "outputs": [
    {
     "name": "stdout",
     "output_type": "stream",
     "text": [
      "0.120546340942\n",
      "0.137709319592\n"
     ]
    }
   ],
   "source": [
    "print(1-np.mean(sess.run(obs_sigma)**2))\n",
    "print(1-np.mean(sess.run(site_sigma)**2))"
   ]
  },
  {
   "cell_type": "code",
   "execution_count": null,
   "metadata": {
    "collapsed": false,
    "deletable": true,
    "editable": true
   },
   "outputs": [],
   "source": []
  }
 ],
 "metadata": {
  "anaconda-cloud": {},
  "kernelspec": {
   "display_name": "Python [default]",
   "language": "python",
   "name": "python3"
  },
  "language_info": {
   "codemirror_mode": {
    "name": "ipython",
    "version": 3
   },
   "file_extension": ".py",
   "mimetype": "text/x-python",
   "name": "python",
   "nbconvert_exporter": "python",
   "pygments_lexer": "ipython3",
   "version": "3.5.2"
  }
 },
 "nbformat": 4,
 "nbformat_minor": 1
}
